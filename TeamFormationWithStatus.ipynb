{
 "cells": [
  {
   "cell_type": "code",
   "execution_count": 81,
   "metadata": {
    "collapsed": true
   },
   "outputs": [],
   "source": [
    "#George Christodoulou\n",
    "#Aristidis Chronarakis"
   ]
  },
  {
   "cell_type": "code",
   "execution_count": 82,
   "metadata": {
    "collapsed": true
   },
   "outputs": [],
   "source": [
    "#Libraries\n",
    "import networkx as nx\n",
    "import matplotlib.pyplot as plt"
   ]
  },
  {
   "cell_type": "code",
   "execution_count": 83,
   "metadata": {
    "collapsed": true
   },
   "outputs": [],
   "source": [
    "#The loadingSN function loads for each User his skills and the relations with other Users from files in order to constut the Social Network.   \n",
    "def loadingSN():\n",
    "    skillsMapping={}\n",
    "    availableSkills=['Acceleration','Aggression','Agility','Balance','Ball control','Composure','Crossing','Curve','Dribbling','Finishing','Free kick accuracy','GK diving','GK handling','GK kicking','GK positioning','GK reflexes','Heading accuracy','ID','Interceptions','Jumping','Long passing','Long shots','Marking','Penalties','Positioning','Reactions','Short passing','Shot power','Sliding tackle','Sprint speed','Stamina','Standing tackle','Strength','Vision','Volleys']\n",
    "    with open (\"PlayerAttributeData.csv\") as fopen:\n",
    "        fopen.next()\n",
    "        for line in fopen:\n",
    "            splitted=line.split(\",\")\n",
    "            skillsList=[]\n",
    "            for i in range(1,len(splitted)):\n",
    "                if int(splitted[i]) > 74:\n",
    "                    skillsList.append(availableSkills[i-1])\n",
    "            skillsMapping.setdefault(splitted[0],skillsList)\n",
    "    inUsers = {}\n",
    "    outUsers = {}\n",
    "    skills = {}\n",
    "    with open(\"soc-sign-bitcoinalpha.csv\") as fopen:\n",
    "            for line in fopen:\n",
    "                splitted = []\n",
    "                splitted = line.split(\",\")\n",
    "                if (splitted[2].startswith(\"-\")):\n",
    "                    userB = splitted[0]\n",
    "                    userA = splitted[1]\n",
    "                else:\n",
    "                    userA = splitted[0]\n",
    "                    userB = splitted[1]\n",
    "                inUsers.setdefault(userA,[]).append(userB)\n",
    "                inUsers.setdefault(userB,[])\n",
    "                outUsers.setdefault(userB,[]).append(userA)\n",
    "                outUsers.setdefault(userA,[])\n",
    "                skills.setdefault(userA,skillsMapping[userA])\n",
    "                skills.setdefault(userB,skillsMapping[userB])\n",
    "    \n",
    "    socialNetwork={}\n",
    "    for user in inUsers.keys():\n",
    "        socialNetwork.setdefault(user,[]).append(inUsers[user])\n",
    "        socialNetwork.setdefault(user,[]).append(outUsers[user])\n",
    "        socialNetwork.setdefault(user,[]).append(skills[user])\n",
    "    return socialNetwork\n"
   ]
  },
  {
   "cell_type": "code",
   "execution_count": 84,
   "metadata": {
    "collapsed": true
   },
   "outputs": [],
   "source": [
    "#The preProcessingSN function is used for removing Users and their relations if they don't have at least one skill from skillset.This function is also used for finding the Users with the rarest skill from skillset.\n",
    "def preProcessingSN(socialNetwork,skillset):\n",
    "    skillsOccurrences={}\n",
    "    deletedUsers=[]\n",
    "    for user in socialNetwork.keys():\n",
    "        if bool(set(skillset).intersection(socialNetwork[user][2])):\n",
    "            for skill in socialNetwork[user][2]:\n",
    "                if skill in skillset:\n",
    "                    skillsOccurrences[skill]=skillsOccurrences.setdefault(skill,0)+1\n",
    "        else:\n",
    "            del socialNetwork[user]\n",
    "            deletedUsers.append(user)\n",
    "    for user in socialNetwork.keys():\n",
    "        socialNetwork[user][0]=list(set(socialNetwork[user][0]).difference(deletedUsers))\n",
    "        socialNetwork[user][1]=list(set(socialNetwork[user][1]).difference(deletedUsers))\n",
    "    rarestSkill=sorted(skillsOccurrences)[0]\n",
    "    usersWithRarestSkill=[]\n",
    "    for user in socialNetwork.keys():\n",
    "        if rarestSkill in socialNetwork[user][2]:\n",
    "            usersWithRarestSkill.append(user)\n",
    "    return  socialNetwork,usersWithRarestSkill"
   ]
  },
  {
   "cell_type": "code",
   "execution_count": 85,
   "metadata": {
    "collapsed": true
   },
   "outputs": [],
   "source": [
    "#The hasFullSkillset function is used for checking if the needed skillset has been fulfilled.\n",
    "def hasFullSkillset(socialNetworkProcessed,team,skillset):   \n",
    "    tempSkills=[]\n",
    "    for user in team:\n",
    "        for skill in socialNetworkProcessed[user][2]:\n",
    "            if skill not in tempSkills:\n",
    "                tempSkills.append(skill)\n",
    "    if set(skillset) < set(tempSkills):\n",
    "        return True\n",
    "    else:\n",
    "        return False"
   ]
  },
  {
   "cell_type": "code",
   "execution_count": 86,
   "metadata": {
    "collapsed": true
   },
   "outputs": [],
   "source": [
    "#The userCreateCycles function is used for checking if the addition of User in Team create Cycles in Team Network.  \n",
    "def userCreateCycles(socialNetworkProcessed,team,user):\n",
    "    testTeam=team\n",
    "    testTeam.append(user)\n",
    "    testGraph=nx.DiGraph()\n",
    "    for user in testTeam:\n",
    "        for inUser in socialNetworkProcessed[user][0]:\n",
    "            testGraph.add_edge(inUser,user)\n",
    "        for outUser in socialNetworkProcessed[user][1]:\n",
    "            testGraph.add_edge(user,outUser)\n",
    "    try:\n",
    "        tempList =list(nx.find_cycle(testGraph, orientation='original'))\n",
    "        print \"We will have a status cycle if we add user to team\"\n",
    "        return True\n",
    "    except:\n",
    "        return False"
   ]
  },
  {
   "cell_type": "code",
   "execution_count": 87,
   "metadata": {
    "collapsed": true
   },
   "outputs": [],
   "source": [
    "#The directedSNtoUndirected function is used for modifying the directed approach of Social Network in which a User has in-coming and out-coming neighbours to an undirected approach about his neighbours and which is used in our Social Network traversal.  \n",
    "def directedSNtoUndirected(socialNetworkProcessed):\n",
    "    socialNetworkUndirected={}\n",
    "    for key in socialNetworkProcessed.keys():\n",
    "        socialNetworkUndirected[key]=list((socialNetworkProcessed[key][0])+(socialNetworkProcessed[key][1]))\n",
    "    return socialNetworkUndirected  "
   ]
  },
  {
   "cell_type": "code",
   "execution_count": 88,
   "metadata": {},
   "outputs": [],
   "source": [
    "#The removeNeedlessUsers function is used for removing Users from Social Network which has skills that are also fulfilled from other Users and their removal don't affect the Social Network's connected component. \n",
    "def removeNeedlessUsers(socialNetworkProcessed,team,skillset):\n",
    "    temporaryGraph=nx.DiGraph()\n",
    "    for member in team:\n",
    "        temporaryGraph.add_node(member)\n",
    "        for user in socialNetworkProcessed[member][1]:\n",
    "            if user in team:\n",
    "                temporaryGraph.add_edge(member,user)\n",
    "    teamGraph=temporaryGraph.copy()\n",
    "    finalGraph = temporaryGraph.to_undirected()\n",
    "    for member in teamGraph.nodes():\n",
    "        if(finalGraph.number_of_nodes()>1):\n",
    "            temp=finalGraph.copy()\n",
    "            temp.remove_node(member)\n",
    "            team.remove(member)\n",
    "            if(nx.is_connected(temp)==True and hasFullSkillset(socialNetworkProcessed,team,skillset)==True):\n",
    "                finalGraph.remove_node(member)\n",
    "            else:\n",
    "                team.append(member)\n",
    "    return list(finalGraph)"
   ]
  },
  {
   "cell_type": "code",
   "execution_count": 89,
   "metadata": {
    "collapsed": true
   },
   "outputs": [],
   "source": [
    "##The TFWS is the function which implements the team formation with status algorithm.(More Details on Report)\n",
    "def TFWS(socialNetwork,skillset):\n",
    "    socialNetworkProcessed,usersWithRarestSkill=preProcessingSN(socialNetwork,skillset)\n",
    "    socialNetworkUndirected=directedSNtoUndirected(socialNetworkProcessed)\n",
    "    for startingUser in usersWithRarestSkill:\n",
    "        team=[]\n",
    "        explored = []\n",
    "        queue = [startingUser]\n",
    "        while queue :\n",
    "            user = queue.pop(0)\n",
    "            if user not in explored:\n",
    "                if userCreateCycles(socialNetworkProcessed,team,user)==False:\n",
    "                    team.append(user)\n",
    "                explored.append(user)\n",
    "                neighbours = socialNetworkUndirected[user]\n",
    "                for neighbour in neighbours:\n",
    "                    queue.append(neighbour)\n",
    "            if hasFullSkillset(socialNetworkProcessed,team,skillset)==True:\n",
    "                print team\n",
    "                print \"We find a team which has a respect on status theory and fulfills the needed skillset\"\n",
    "                team=removeNeedlessUsers(socialNetworkProcessed,team,skillset)\n",
    "                return team\n",
    "    print \"Unable to find the desired team\"\n",
    "    return false"
   ]
  },
  {
   "cell_type": "code",
   "execution_count": 90,
   "metadata": {},
   "outputs": [
    {
     "name": "stdout",
     "output_type": "stream",
     "text": [
      "We will have a status cycle if we add user to team\n",
      "['592']\n",
      "We find a team which has a respect on status theory and fulfills the needed skillset\n"
     ]
    }
   ],
   "source": [
    "if __name__ == '__main__':\n",
    "    socialNetwork=loadingSN()\n",
    "    skillset=['Dribbling','Agility','Balance','Reactions']\n",
    "    team=TFWS(socialNetwork,skillset)"
   ]
  },
  {
   "cell_type": "code",
   "execution_count": null,
   "metadata": {
    "collapsed": true
   },
   "outputs": [],
   "source": []
  },
  {
   "cell_type": "code",
   "execution_count": null,
   "metadata": {
    "collapsed": true
   },
   "outputs": [],
   "source": []
  },
  {
   "cell_type": "code",
   "execution_count": null,
   "metadata": {
    "collapsed": true
   },
   "outputs": [],
   "source": []
  },
  {
   "cell_type": "code",
   "execution_count": null,
   "metadata": {
    "collapsed": true
   },
   "outputs": [],
   "source": []
  }
 ],
 "metadata": {
  "kernelspec": {
   "display_name": "Python 2",
   "language": "python",
   "name": "python2"
  },
  "language_info": {
   "codemirror_mode": {
    "name": "ipython",
    "version": 2
   },
   "file_extension": ".py",
   "mimetype": "text/x-python",
   "name": "python",
   "nbconvert_exporter": "python",
   "pygments_lexer": "ipython2",
   "version": "2.7.14"
  }
 },
 "nbformat": 4,
 "nbformat_minor": 2
}
